{
 "cells": [
  {
   "cell_type": "code",
   "execution_count": 5,
   "id": "artificial-palestine",
   "metadata": {},
   "outputs": [],
   "source": [
    "import pickle\n",
    "import numpy as np\n",
    "from collections import defaultdict\n",
    "import config\n",
    "import time\n",
    "import datetime\n",
    "import torch\n",
    "import numpy as np\n",
    "import random\n",
    "import pickle\n",
    "from tqdm import tqdm\n",
    "from model import SessionGraph\n",
    "from utils import handle_adj, Data"
   ]
  },
  {
   "cell_type": "code",
   "execution_count": null,
   "id": "synthetic-ribbon",
   "metadata": {},
   "outputs": [],
   "source": [
    "dataset = 'Tmall'\n",
    "\n",
    "fre = defaultdict(int)\n",
    "seq = pickle.load(open('./datasets/'+dataset + '/all_train_seq.txt', 'rb'))\n",
    "nodes = set()\n",
    "lens = []\n",
    "i = 0\n",
    "for s in seq:\n",
    "    print(s)\n",
    "    i+=1\n",
    "    if i==1000:\n",
    "        break"
   ]
  },
  {
   "cell_type": "code",
   "execution_count": 8,
   "id": "official-recognition",
   "metadata": {},
   "outputs": [],
   "source": [
    "def handle_data(inputData, train_len=None):\n",
    "    len_data = [len(nowData) for nowData in inputData]\n",
    "    if train_len is None:\n",
    "        max_len = max(len_data)\n",
    "    else:\n",
    "        max_len = train_len\n",
    "    # reverse the sequence\n",
    "    us_pois = [list(reversed(upois)) + [0] * (max_len - le) if le < max_len else list(reversed(upois[-max_len:]))\n",
    "               for upois, le in zip(inputData, len_data)]\n",
    "    us_msks = [[1] * le + [0] * (max_len - le) if le < max_len else [1] * max_len\n",
    "               for le in len_data]\n",
    "    return us_pois, us_msks, max_len"
   ]
  },
  {
   "cell_type": "code",
   "execution_count": 27,
   "id": "cheap-empire",
   "metadata": {},
   "outputs": [],
   "source": [
    "def mean_length(data):\n",
    "    lengths = [len(nowData) for nowData in data]\n",
    "    cnts = []\n",
    "    for u_input in tqdm(data):\n",
    "        node = np.unique(u_input)\n",
    "        items = node.tolist()\n",
    "        for i in range(len(items)):\n",
    "            cnt = 0\n",
    "            for j in range(i-70,i+70):\n",
    "                if j < 0 or j == i or j >= len(items) or items[i] == 0 or items[j]==0:\n",
    "                    continue\n",
    "                x = tuple(sorted([items[i], items[j]]))\n",
    "                if x in seq2idx.keys():\n",
    "                    cnt += 1\n",
    "            cnts.append(cnt)\n",
    "    return lengths, cnts"
   ]
  },
  {
   "cell_type": "code",
   "execution_count": 29,
   "id": "heavy-operator",
   "metadata": {},
   "outputs": [
    {
     "name": "stderr",
     "output_type": "stream",
     "text": [
      "100%|██████████| 719470/719470 [00:45<00:00, 15977.99it/s]\n",
      "100%|██████████| 60858/60858 [00:03<00:00, 16840.59it/s]\n"
     ]
    },
    {
     "name": "stdout",
     "output_type": "stream",
     "text": [
      "4.132768565749788 4.4360383544656825 4.034736599953991 2.4769896259276085\n"
     ]
    }
   ],
   "source": [
    "dataset = \"diginetica\"\n",
    "adj = pickle.load(open('datasets/' +  dataset + '/adj_' + str(12) + '.pkl', 'rb'))\n",
    "seq2fre = pickle.load(open('datasets/' +  dataset + '/seq2fre_' + str(12) + '.pkl', 'rb'))\n",
    "seq2idx = pickle.load(open('datasets/' +  dataset + '/seq2idx_' + str(12) + '.pkl', 'rb'))\n",
    "train_data = pickle.load(open('datasets/' +  dataset + '/train.txt', 'rb'))\n",
    "test_data = pickle.load(open('datasets/' +  dataset + '/test.txt', 'rb'))\n",
    "diginetica_train_length, diginetica_train_cnts = mean_length(train_data[0])\n",
    "diginetica_test_lengths, diginetica_test_cnts = mean_length(test_data[0])\n",
    "print(np.mean(diginetica_train_length), np.mean(diginetica_train_cnts), np.mean(diginetica_test_lengths), np.mean(diginetica_test_cnts))"
   ]
  },
  {
   "cell_type": "code",
   "execution_count": 30,
   "id": "tropical-syndicate",
   "metadata": {},
   "outputs": [
    {
     "name": "stderr",
     "output_type": "stream",
     "text": [
      "100%|██████████| 825304/825304 [01:19<00:00, 10345.98it/s]\n",
      "100%|██████████| 89824/89824 [00:08<00:00, 10629.00it/s]\n"
     ]
    },
    {
     "name": "stdout",
     "output_type": "stream",
     "text": [
      "5.53095223093551 5.743771687636101 5.547370413252583 1.7739573519685425\n"
     ]
    }
   ],
   "source": [
    "dataset = \"Nowplaying\"\n",
    "adj = pickle.load(open('datasets/' +  dataset + '/adj_' + str(12) + '.pkl', 'rb'))\n",
    "seq2fre = pickle.load(open('datasets/' +  dataset + '/seq2fre_' + str(12) + '.pkl', 'rb'))\n",
    "seq2idx = pickle.load(open('datasets/' +  dataset + '/seq2idx_' + str(12) + '.pkl', 'rb'))\n",
    "train_data = pickle.load(open('datasets/' +  dataset + '/train.txt', 'rb'))\n",
    "test_data = pickle.load(open('datasets/' +  dataset + '/test.txt', 'rb'))\n",
    "Nowplaying_train_lengths, Nowplaying_train_cnts = mean_length(train_data[0])\n",
    "Nowplaying_test_lengths, Nowplaying_test_cnts = mean_length(test_data[0])\n",
    "print(np.mean(Nowplaying_train_lengths), np.mean(Nowplaying_train_cnts), np.mean(Nowplaying_test_lengths), np.mean(Nowplaying_test_cnts))"
   ]
  },
  {
   "cell_type": "code",
   "execution_count": 31,
   "id": "signal-cholesterol",
   "metadata": {},
   "outputs": [
    {
     "name": "stderr",
     "output_type": "stream",
     "text": [
      "100%|██████████| 351268/351268 [00:28<00:00, 12426.65it/s]\n",
      "100%|██████████| 25898/25898 [00:04<00:00, 5796.88it/s]\n"
     ]
    },
    {
     "name": "stdout",
     "output_type": "stream",
     "text": [
      "6.470478381179043 4.930541730935321 14.304540891188509 1.0763284862152658\n"
     ]
    }
   ],
   "source": [
    "dataset = \"Tmall\"\n",
    "adj = pickle.load(open('datasets/' +  dataset + '/adj_' + str(12) + '.pkl', 'rb'))\n",
    "seq2fre = pickle.load(open('datasets/' +  dataset + '/seq2fre_' + str(12) + '.pkl', 'rb'))\n",
    "seq2idx = pickle.load(open('datasets/' +  dataset + '/seq2idx_' + str(12) + '.pkl', 'rb'))\n",
    "train_data = pickle.load(open('datasets/' +  dataset + '/train.txt', 'rb'))\n",
    "test_data = pickle.load(open('datasets/' +  dataset + '/test.txt', 'rb'))\n",
    "Tmall_train_lengths, Tmall_train_cnts = mean_length(train_data[0])\n",
    "Tmall_test_lenghts, Tmall_test_cnts = mean_length(test_data[0])\n",
    "print(np.mean(Tmall_train_lengths), np.mean(Tmall_train_cnts), np.mean(Tmall_test_lenghts), np.mean(Tmall_test_cnts))"
   ]
  },
  {
   "cell_type": "code",
   "execution_count": 39,
   "id": "settled-completion",
   "metadata": {},
   "outputs": [
    {
     "data": {
      "text/plain": [
       "(0.0, 40.0)"
      ]
     },
     "execution_count": 39,
     "metadata": {},
     "output_type": "execute_result"
    },
    {
     "data": {
      "image/png": "[encoded data removed]",
      "text/plain": [
       "<Figure size 432x288 with 1 Axes>"
      ]
     },
     "metadata": {
      "needs_background": "light"
     },
     "output_type": "display_data"
    }
   ],
   "source": [
    "import matplotlib.pyplot as plt\n",
    "import seaborn as sns\n",
    "import pandas as pd\n",
    "# df = pd.DataFrame({\"diginetica_train_length\":diginetica_train_length, \"diginetica_train_cnts\":diginetica_train_cnts,\\\n",
    "#                   \"diginetica_test_lengths\":diginetica_test_lengths, \"diginetica_test_cnts\":diginetica_test_cnts,\\\n",
    "#                   \"Nowplaying_train_lengths\":Nowplaying_train_lengths, \"Nowplaying_train_cnts\":Nowplaying_train_cnts,\\\n",
    "#                   \"Nowplaying_test_lengths\":Nowplaying_test_lengths, \"Nowplaying_test_cnts\":Nowplaying_test_cnts,\\\n",
    "#                   \"Tmall_train_lengths\":Tmall_train_lengths, \"Tmall_train_cnts\":Tmall_train_cnts,\n",
    "#                   \"Tmall_test_lenghts\":Tmall_test_lenghts, \"Tmall_test_cnts\":Tmall_test_cnts})\n",
    "\n",
    "ax = sns.boxplot(data=[diginetica_train_length, diginetica_train_cnts, diginetica_test_lengths, diginetica_test_cnts,\\\n",
    "                 Nowplaying_train_lengths, Nowplaying_train_cnts, Nowplaying_test_lengths, Nowplaying_test_cnts,\\\n",
    "                 Tmall_train_lengths, Tmall_train_cnts, Tmall_test_lenghts, Tmall_test_cnts],fliersize=0)\n",
    "ax.set_ylim(0,40)"
   ]
  },
  {
   "cell_type": "code",
   "execution_count": null,
   "id": "coordinated-agent",
   "metadata": {},
   "outputs": [],
   "source": []
  }
 ],
 "metadata": {
  "kernelspec": {
   "display_name": "Python 3",
   "language": "python",
   "name": "python3"
  },
  "language_info": {
   "codemirror_mode": {
    "name": "ipython",
    "version": 3
   },
   "file_extension": ".py",
   "mimetype": "text/x-python",
   "name": "python",
   "nbconvert_exporter": "python",
   "pygments_lexer": "ipython3",
   "version": "3.7.4"
  }
 },
 "nbformat": 4,
 "nbformat_minor": 5
}
