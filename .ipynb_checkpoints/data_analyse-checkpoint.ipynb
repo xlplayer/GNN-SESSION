{
 "cells": [
  {
   "cell_type": "code",
   "execution_count": 5,
   "id": "canadian-loading",
   "metadata": {},
   "outputs": [],
   "source": [
    "import pickle\n",
    "import numpy as np\n",
    "from collections import defaultdict\n",
    "import config\n",
    "import time\n",
    "import datetime\n",
    "import torch\n",
    "import numpy as np\n",
    "import random\n",
    "import pickle\n",
    "from tqdm import tqdm\n",
    "from model import SessionGraph\n",
    "from utils import handle_adj, Data"
   ]
  },
  {
   "cell_type": "code",
   "execution_count": null,
   "id": "sacred-works",
   "metadata": {},
   "outputs": [],
   "source": [
    "dataset = 'Tmall'\n",
    "\n",
    "fre = defaultdict(int)\n",
    "seq = pickle.load(open('./datasets/'+dataset + '/all_train_seq.txt', 'rb'))\n",
    "nodes = set()\n",
    "lens = []\n",
    "i = 0\n",
    "for s in seq:\n",
    "    print(s)\n",
    "    i+=1\n",
    "    if i==1000:\n",
    "        break"
   ]
  },
  {
   "cell_type": "code",
   "execution_count": 8,
   "id": "wanted-jimmy",
   "metadata": {},
   "outputs": [],
   "source": [
    "def handle_data(inputData, train_len=None):\n",
    "    len_data = [len(nowData) for nowData in inputData]\n",
    "    if train_len is None:\n",
    "        max_len = max(len_data)\n",
    "    else:\n",
    "        max_len = train_len\n",
    "    # reverse the sequence\n",
    "    us_pois = [list(reversed(upois)) + [0] * (max_len - le) if le < max_len else list(reversed(upois[-max_len:]))\n",
    "               for upois, le in zip(inputData, len_data)]\n",
    "    us_msks = [[1] * le + [0] * (max_len - le) if le < max_len else [1] * max_len\n",
    "               for le in len_data]\n",
    "    return us_pois, us_msks, max_len"
   ]
  },
  {
   "cell_type": "code",
   "execution_count": 14,
   "id": "modern-panic",
   "metadata": {},
   "outputs": [],
   "source": [
    "def mean_length(data):\n",
    "    cnts = []\n",
    "    for u_input in tqdm(data):\n",
    "        node = np.unique(u_input)\n",
    "        items = node.tolist()\n",
    "        for i in range(len(items)):\n",
    "            cnt = 0\n",
    "            for j in range(i-70,i+70):\n",
    "                if j < 0 or j == i or j >= len(items) or items[i] == 0 or items[j]==0:\n",
    "                    continue\n",
    "                x = tuple(sorted([items[i], items[j]]))\n",
    "                if x in seq2idx.keys():\n",
    "                    cnt += 1\n",
    "            cnts.append(cnt)\n",
    "    return cnts"
   ]
  },
  {
   "cell_type": "code",
   "execution_count": null,
   "id": "square-marsh",
   "metadata": {},
   "outputs": [],
   "source": [
    "dataset = \"diginetica\"\n",
    "adj = pickle.load(open('datasets/' +  dataset + '/adj_' + str(12) + '.pkl', 'rb'))\n",
    "seq2fre = pickle.load(open('datasets/' +  dataset + '/seq2fre_' + str(12) + '.pkl', 'rb'))\n",
    "seq2idx = pickle.load(open('datasets/' +  dataset + '/seq2idx_' + str(12) + '.pkl', 'rb'))\n",
    "train_data = pickle.load(open('datasets/' +  dataset + '/train.txt', 'rb'))\n",
    "test_data = pickle.load(open('datasets/' +  dataset + '/test.txt', 'rb'))"
   ]
  },
  {
   "cell_type": "code",
   "execution_count": 15,
   "id": "boolean-services",
   "metadata": {},
   "outputs": [
    {
     "name": "stderr",
     "output_type": "stream",
     "text": [
      "100%|██████████| 719470/719470 [00:57<00:00, 12489.80it/s]\n"
     ]
    }
   ],
   "source": [
    "train_cnts = mean_length(train_data[0])"
   ]
  },
  {
   "cell_type": "code",
   "execution_count": 16,
   "id": "martial-penny",
   "metadata": {},
   "outputs": [
    {
     "data": {
      "text/plain": [
       "4.4360383544656825"
      ]
     },
     "execution_count": 16,
     "metadata": {},
     "output_type": "execute_result"
    }
   ],
   "source": [
    "np.mean(train_cnts) #diginetica"
   ]
  },
  {
   "cell_type": "code",
   "execution_count": 18,
   "id": "bridal-thirty",
   "metadata": {},
   "outputs": [
    {
     "name": "stderr",
     "output_type": "stream",
     "text": [
      "100%|██████████| 719470/719470 [00:51<00:00, 13993.87it/s]\n"
     ]
    }
   ],
   "source": [
    "train_cnts = mean_length(train_data[0])"
   ]
  },
  {
   "cell_type": "code",
   "execution_count": 19,
   "id": "italic-spanking",
   "metadata": {},
   "outputs": [
    {
     "data": {
      "text/plain": [
       "4.4360383544656825"
      ]
     },
     "execution_count": 19,
     "metadata": {},
     "output_type": "execute_result"
    }
   ],
   "source": [
    "np.mean(train_cnts) #Nowplaying"
   ]
  },
  {
   "cell_type": "code",
   "execution_count": null,
   "id": "demographic-biotechnology",
   "metadata": {},
   "outputs": [],
   "source": [
    "train_cnts = mean_length(train_data[0])"
   ]
  },
  {
   "cell_type": "code",
   "execution_count": null,
   "id": "extraordinary-plenty",
   "metadata": {},
   "outputs": [],
   "source": [
    "np.mean(train_cnts) #Tmall"
   ]
  }
 ],
 "metadata": {
  "kernelspec": {
   "display_name": "Python 3",
   "language": "python",
   "name": "python3"
  },
  "language_info": {
   "codemirror_mode": {
    "name": "ipython",
    "version": 3
   },
   "file_extension": ".py",
   "mimetype": "text/x-python",
   "name": "python",
   "nbconvert_exporter": "python",
   "pygments_lexer": "ipython3",
   "version": "3.7.4"
  }
 },
 "nbformat": 4,
 "nbformat_minor": 5
}
